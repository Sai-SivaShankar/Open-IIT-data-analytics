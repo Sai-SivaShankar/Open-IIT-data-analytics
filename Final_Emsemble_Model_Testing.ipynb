{
  "nbformat": 4,
  "nbformat_minor": 0,
  "metadata": {
    "colab": {
      "provenance": []
    },
    "kernelspec": {
      "name": "python3",
      "display_name": "Python 3"
    },
    "language_info": {
      "name": "python"
    }
  },
  "cells": [
    {
      "cell_type": "code",
      "execution_count": 1,
      "metadata": {
        "id": "5l5nyHYIOGqW",
        "colab": {
          "base_uri": "https://localhost:8080/"
        },
        "outputId": "e594e6d3-af71-483a-d5fc-73ecfd761070"
      },
      "outputs": [
        {
          "output_type": "stream",
          "name": "stdout",
          "text": [
            "Mounted at /content/drive\n"
          ]
        }
      ],
      "source": [
        "from google.colab import drive\n",
        "drive.mount('/content/drive')"
      ]
    },
    {
      "cell_type": "code",
      "source": [
        "%cd '/content/drive/My Drive/open_iit_data/'"
      ],
      "metadata": {
        "id": "B7LTVDm-Obka",
        "colab": {
          "base_uri": "https://localhost:8080/"
        },
        "outputId": "0077c455-362b-4063-dcc9-64120865d89d"
      },
      "execution_count": 2,
      "outputs": [
        {
          "output_type": "stream",
          "name": "stdout",
          "text": [
            "/content/drive/My Drive/open_iit_data\n"
          ]
        }
      ]
    },
    {
      "cell_type": "code",
      "source": [
        "import pickle\n",
        "import tensorflow as tf\n",
        "import pandas as pd\n",
        "from sklearn.preprocessing import StandardScaler,MinMaxScaler\n",
        "import numpy as np\n",
        "import tensorflow as tf"
      ],
      "metadata": {
        "id": "1r1BL-QsPCZW"
      },
      "execution_count": 3,
      "outputs": []
    },
    {
      "cell_type": "code",
      "source": [
        "import matplotlib.pyplot as plt"
      ],
      "metadata": {
        "id": "KcSn0ElrYeEA"
      },
      "execution_count": 4,
      "outputs": []
    },
    {
      "cell_type": "code",
      "source": [
        "import pickle"
      ],
      "metadata": {
        "id": "QNZm_h__bbyo"
      },
      "execution_count": 5,
      "outputs": []
    },
    {
      "cell_type": "markdown",
      "source": [
        "# Data Loading"
      ],
      "metadata": {
        "id": "Zdstjnm_VH-g"
      }
    },
    {
      "cell_type": "code",
      "source": [
        "dataset = pd.read_csv('Final_whole_data.csv')\n",
        "df= dataset.drop(columns= ['helper'])\n",
        "df.drop(columns = [ 'venkateswara swamy' , 'ttd' , 'Date' ] , inplace = True)\n",
        "target = df[\"Pilgrims\"]\n",
        "val = 12\n",
        "features = df.iloc[:,:]"
      ],
      "metadata": {
        "id": "_YiZ2izMdbXT"
      },
      "execution_count": 8,
      "outputs": []
    },
    {
      "cell_type": "code",
      "source": [
        "k = 50\n",
        "train_features = np.array(features.iloc[0:520-k,:])\n",
        "train_target = np.array(target.iloc[0:520-k])"
      ],
      "metadata": {
        "id": "-w3bY06ldnL_"
      },
      "execution_count": 9,
      "outputs": []
    },
    {
      "cell_type": "code",
      "source": [
        "scaler1 = MinMaxScaler(feature_range=(0, 1))\n",
        "scaler2 = MinMaxScaler(feature_range=(0, 1))\n",
        "features_train = scaler1.fit_transform(train_features)\n",
        "features_target = scaler2.fit_transform(train_target.reshape(-1,1))"
      ],
      "metadata": {
        "id": "nhIReCsBdojB"
      },
      "execution_count": 10,
      "outputs": []
    },
    {
      "cell_type": "markdown",
      "source": [
        "# Models Loading"
      ],
      "metadata": {
        "id": "NFgKa109VLkG"
      }
    },
    {
      "cell_type": "code",
      "source": [
        "model1 = pickle.load(open( 'xgboost2.sav', 'rb'))\n",
        "model2 = tf.keras.models.load_model('LSTM_MODEL.h5')\n",
        "reg = pickle.load(open('Linear_regression.sav', 'rb'))"
      ],
      "metadata": {
        "id": "RnzJxbn6pXLn"
      },
      "execution_count": 11,
      "outputs": []
    },
    {
      "cell_type": "markdown",
      "source": [
        "#Ensemble Model"
      ],
      "metadata": {
        "id": "rBo8dQT9VOWB"
      }
    },
    {
      "cell_type": "code",
      "source": [
        "def my_predict(input):\n",
        "  v1=input[:-1]\n",
        "  v2=scaler1.transform(input.reshape(1,-1))\n",
        "  print(v1)\n",
        "  print(v2)\n",
        "  o1 = model1.predict(v1.reshape(1,-1))\n",
        "  o2 = model2.predict(v2.reshape(1,1,-1))\n",
        "  o3 = scaler2.inverse_transform(o2.reshape(1,-1))\n",
        "  inp = np.array([o1 , o3])\n",
        "  o3 = reg.predict(inp.reshape(1,-1))\n",
        "  return o3"
      ],
      "metadata": {
        "id": "gnXbrtvSbzlz"
      },
      "execution_count": 12,
      "outputs": []
    },
    {
      "cell_type": "markdown",
      "source": [
        "# Give an input to predict from the model"
      ],
      "metadata": {
        "id": "LeTGnapiVRkX"
      }
    },
    {
      "cell_type": "code",
      "source": [
        "iny = np.array(df.iloc[47 , :])"
      ],
      "metadata": {
        "id": "oCKbwHbfiY2M"
      },
      "execution_count": 15,
      "outputs": []
    },
    {
      "cell_type": "code",
      "source": [
        "output = my_predict(iny)\n",
        "print(output)\n",
        "df.iloc[47 , :][-1]"
      ],
      "metadata": {
        "colab": {
          "base_uri": "https://localhost:8080/"
        },
        "id": "_5PaGOYhfncz",
        "outputId": "f62ab95f-00bf-4622-d6a8-e6401832669c"
      },
      "execution_count": 16,
      "outputs": [
        {
          "output_type": "stream",
          "name": "stdout",
          "text": [
            "[36. 50. 77. 39. 70. 56. 55. 62. 35. 43. 63.]\n",
            "[[0.36       0.5        0.7195122  0.39       0.4        0.55555556\n",
            "  0.43037975 0.60416667 0.30851064 0.38709677 0.60215054 0.68791357]]\n",
            "1/1 [==============================] - 1s 737ms/step\n",
            "[439334.46442488]\n"
          ]
        },
        {
          "output_type": "stream",
          "name": "stderr",
          "text": [
            "<ipython-input-12-c99686b8e4b7>:9: VisibleDeprecationWarning: Creating an ndarray from ragged nested sequences (which is a list-or-tuple of lists-or-tuples-or ndarrays with different lengths or shapes) is deprecated. If you meant to do this, you must specify 'dtype=object' when creating the ndarray.\n",
            "  inp = np.array([o1 , o3])\n"
          ]
        },
        {
          "output_type": "execute_result",
          "data": {
            "text/plain": [
              "456214.0"
            ]
          },
          "metadata": {},
          "execution_count": 16
        }
      ]
    },
    {
      "cell_type": "code",
      "source": [],
      "metadata": {
        "id": "IrFWnl1mgb-8"
      },
      "execution_count": null,
      "outputs": []
    }
  ]
}