{
  "nbformat": 4,
  "nbformat_minor": 0,
  "metadata": {
    "colab": {
      "provenance": [],
      "gpuType": "T4"
    },
    "kernelspec": {
      "name": "python3",
      "display_name": "Python 3"
    },
    "language_info": {
      "name": "python"
    },
    "widgets": {
      "application/vnd.jupyter.widget-state+json": {
        "693842bb01904df18b692bcd4b7fd9dc": {
          "model_module": "@jupyter-widgets/controls",
          "model_name": "HBoxModel",
          "model_module_version": "1.5.0",
          "state": {
            "_dom_classes": [],
            "_model_module": "@jupyter-widgets/controls",
            "_model_module_version": "1.5.0",
            "_model_name": "HBoxModel",
            "_view_count": null,
            "_view_module": "@jupyter-widgets/controls",
            "_view_module_version": "1.5.0",
            "_view_name": "HBoxView",
            "box_style": "",
            "children": [
              "IPY_MODEL_bb47df87dfa94e05b37499e7b01a3d1d",
              "IPY_MODEL_1c872cbb991b4fa4be8cf5b6ac0a70ef",
              "IPY_MODEL_15719381b2e24e7c8f9cc3a840f0249b"
            ],
            "layout": "IPY_MODEL_24fe732c672e490e901ad716a4754184"
          }
        },
        "bb47df87dfa94e05b37499e7b01a3d1d": {
          "model_module": "@jupyter-widgets/controls",
          "model_name": "HTMLModel",
          "model_module_version": "1.5.0",
          "state": {
            "_dom_classes": [],
            "_model_module": "@jupyter-widgets/controls",
            "_model_module_version": "1.5.0",
            "_model_name": "HTMLModel",
            "_view_count": null,
            "_view_module": "@jupyter-widgets/controls",
            "_view_module_version": "1.5.0",
            "_view_name": "HTMLView",
            "description": "",
            "description_tooltip": null,
            "layout": "IPY_MODEL_fac25ca2ec2542f2b24af0b5e0f05a22",
            "placeholder": "​",
            "style": "IPY_MODEL_b7154036431d4faba4150d6019bc8e5e",
            "value": "100%"
          }
        },
        "1c872cbb991b4fa4be8cf5b6ac0a70ef": {
          "model_module": "@jupyter-widgets/controls",
          "model_name": "FloatProgressModel",
          "model_module_version": "1.5.0",
          "state": {
            "_dom_classes": [],
            "_model_module": "@jupyter-widgets/controls",
            "_model_module_version": "1.5.0",
            "_model_name": "FloatProgressModel",
            "_view_count": null,
            "_view_module": "@jupyter-widgets/controls",
            "_view_module_version": "1.5.0",
            "_view_name": "ProgressView",
            "bar_style": "success",
            "description": "",
            "description_tooltip": null,
            "layout": "IPY_MODEL_80226bde04e344f9a6c4144ed0abc88e",
            "max": 81,
            "min": 0,
            "orientation": "horizontal",
            "style": "IPY_MODEL_907a6dc78b354d8cb2a46c4b8024389e",
            "value": 81
          }
        },
        "15719381b2e24e7c8f9cc3a840f0249b": {
          "model_module": "@jupyter-widgets/controls",
          "model_name": "HTMLModel",
          "model_module_version": "1.5.0",
          "state": {
            "_dom_classes": [],
            "_model_module": "@jupyter-widgets/controls",
            "_model_module_version": "1.5.0",
            "_model_name": "HTMLModel",
            "_view_count": null,
            "_view_module": "@jupyter-widgets/controls",
            "_view_module_version": "1.5.0",
            "_view_name": "HTMLView",
            "description": "",
            "description_tooltip": null,
            "layout": "IPY_MODEL_33fffa22537a4a62ac0d7561d27ceedd",
            "placeholder": "​",
            "style": "IPY_MODEL_00f970f818ee49a5a6b6171d3ff46240",
            "value": " 81/81 [03:43&lt;00:00,  3.91s/it]"
          }
        },
        "24fe732c672e490e901ad716a4754184": {
          "model_module": "@jupyter-widgets/base",
          "model_name": "LayoutModel",
          "model_module_version": "1.2.0",
          "state": {
            "_model_module": "@jupyter-widgets/base",
            "_model_module_version": "1.2.0",
            "_model_name": "LayoutModel",
            "_view_count": null,
            "_view_module": "@jupyter-widgets/base",
            "_view_module_version": "1.2.0",
            "_view_name": "LayoutView",
            "align_content": null,
            "align_items": null,
            "align_self": null,
            "border": null,
            "bottom": null,
            "display": null,
            "flex": null,
            "flex_flow": null,
            "grid_area": null,
            "grid_auto_columns": null,
            "grid_auto_flow": null,
            "grid_auto_rows": null,
            "grid_column": null,
            "grid_gap": null,
            "grid_row": null,
            "grid_template_areas": null,
            "grid_template_columns": null,
            "grid_template_rows": null,
            "height": null,
            "justify_content": null,
            "justify_items": null,
            "left": null,
            "margin": null,
            "max_height": null,
            "max_width": null,
            "min_height": null,
            "min_width": null,
            "object_fit": null,
            "object_position": null,
            "order": null,
            "overflow": null,
            "overflow_x": null,
            "overflow_y": null,
            "padding": null,
            "right": null,
            "top": null,
            "visibility": null,
            "width": null
          }
        },
        "fac25ca2ec2542f2b24af0b5e0f05a22": {
          "model_module": "@jupyter-widgets/base",
          "model_name": "LayoutModel",
          "model_module_version": "1.2.0",
          "state": {
            "_model_module": "@jupyter-widgets/base",
            "_model_module_version": "1.2.0",
            "_model_name": "LayoutModel",
            "_view_count": null,
            "_view_module": "@jupyter-widgets/base",
            "_view_module_version": "1.2.0",
            "_view_name": "LayoutView",
            "align_content": null,
            "align_items": null,
            "align_self": null,
            "border": null,
            "bottom": null,
            "display": null,
            "flex": null,
            "flex_flow": null,
            "grid_area": null,
            "grid_auto_columns": null,
            "grid_auto_flow": null,
            "grid_auto_rows": null,
            "grid_column": null,
            "grid_gap": null,
            "grid_row": null,
            "grid_template_areas": null,
            "grid_template_columns": null,
            "grid_template_rows": null,
            "height": null,
            "justify_content": null,
            "justify_items": null,
            "left": null,
            "margin": null,
            "max_height": null,
            "max_width": null,
            "min_height": null,
            "min_width": null,
            "object_fit": null,
            "object_position": null,
            "order": null,
            "overflow": null,
            "overflow_x": null,
            "overflow_y": null,
            "padding": null,
            "right": null,
            "top": null,
            "visibility": null,
            "width": null
          }
        },
        "b7154036431d4faba4150d6019bc8e5e": {
          "model_module": "@jupyter-widgets/controls",
          "model_name": "DescriptionStyleModel",
          "model_module_version": "1.5.0",
          "state": {
            "_model_module": "@jupyter-widgets/controls",
            "_model_module_version": "1.5.0",
            "_model_name": "DescriptionStyleModel",
            "_view_count": null,
            "_view_module": "@jupyter-widgets/base",
            "_view_module_version": "1.2.0",
            "_view_name": "StyleView",
            "description_width": ""
          }
        },
        "80226bde04e344f9a6c4144ed0abc88e": {
          "model_module": "@jupyter-widgets/base",
          "model_name": "LayoutModel",
          "model_module_version": "1.2.0",
          "state": {
            "_model_module": "@jupyter-widgets/base",
            "_model_module_version": "1.2.0",
            "_model_name": "LayoutModel",
            "_view_count": null,
            "_view_module": "@jupyter-widgets/base",
            "_view_module_version": "1.2.0",
            "_view_name": "LayoutView",
            "align_content": null,
            "align_items": null,
            "align_self": null,
            "border": null,
            "bottom": null,
            "display": null,
            "flex": null,
            "flex_flow": null,
            "grid_area": null,
            "grid_auto_columns": null,
            "grid_auto_flow": null,
            "grid_auto_rows": null,
            "grid_column": null,
            "grid_gap": null,
            "grid_row": null,
            "grid_template_areas": null,
            "grid_template_columns": null,
            "grid_template_rows": null,
            "height": null,
            "justify_content": null,
            "justify_items": null,
            "left": null,
            "margin": null,
            "max_height": null,
            "max_width": null,
            "min_height": null,
            "min_width": null,
            "object_fit": null,
            "object_position": null,
            "order": null,
            "overflow": null,
            "overflow_x": null,
            "overflow_y": null,
            "padding": null,
            "right": null,
            "top": null,
            "visibility": null,
            "width": null
          }
        },
        "907a6dc78b354d8cb2a46c4b8024389e": {
          "model_module": "@jupyter-widgets/controls",
          "model_name": "ProgressStyleModel",
          "model_module_version": "1.5.0",
          "state": {
            "_model_module": "@jupyter-widgets/controls",
            "_model_module_version": "1.5.0",
            "_model_name": "ProgressStyleModel",
            "_view_count": null,
            "_view_module": "@jupyter-widgets/base",
            "_view_module_version": "1.2.0",
            "_view_name": "StyleView",
            "bar_color": null,
            "description_width": ""
          }
        },
        "33fffa22537a4a62ac0d7561d27ceedd": {
          "model_module": "@jupyter-widgets/base",
          "model_name": "LayoutModel",
          "model_module_version": "1.2.0",
          "state": {
            "_model_module": "@jupyter-widgets/base",
            "_model_module_version": "1.2.0",
            "_model_name": "LayoutModel",
            "_view_count": null,
            "_view_module": "@jupyter-widgets/base",
            "_view_module_version": "1.2.0",
            "_view_name": "LayoutView",
            "align_content": null,
            "align_items": null,
            "align_self": null,
            "border": null,
            "bottom": null,
            "display": null,
            "flex": null,
            "flex_flow": null,
            "grid_area": null,
            "grid_auto_columns": null,
            "grid_auto_flow": null,
            "grid_auto_rows": null,
            "grid_column": null,
            "grid_gap": null,
            "grid_row": null,
            "grid_template_areas": null,
            "grid_template_columns": null,
            "grid_template_rows": null,
            "height": null,
            "justify_content": null,
            "justify_items": null,
            "left": null,
            "margin": null,
            "max_height": null,
            "max_width": null,
            "min_height": null,
            "min_width": null,
            "object_fit": null,
            "object_position": null,
            "order": null,
            "overflow": null,
            "overflow_x": null,
            "overflow_y": null,
            "padding": null,
            "right": null,
            "top": null,
            "visibility": null,
            "width": null
          }
        },
        "00f970f818ee49a5a6b6171d3ff46240": {
          "model_module": "@jupyter-widgets/controls",
          "model_name": "DescriptionStyleModel",
          "model_module_version": "1.5.0",
          "state": {
            "_model_module": "@jupyter-widgets/controls",
            "_model_module_version": "1.5.0",
            "_model_name": "DescriptionStyleModel",
            "_view_count": null,
            "_view_module": "@jupyter-widgets/base",
            "_view_module_version": "1.2.0",
            "_view_name": "StyleView",
            "description_width": ""
          }
        }
      }
    },
    "accelerator": "GPU"
  },
  "cells": [
    {
      "cell_type": "code",
      "execution_count": null,
      "metadata": {
        "id": "m6ikjcm0n15O"
      },
      "outputs": [],
      "source": [
        "import pandas as pd\n",
        "import matplotlib.pyplot as plt\n",
        "import plotly.graph_objects as go\n",
        "import numpy as np\n",
        "from statsmodels.graphics.tsaplots import plot_acf\n",
        "from sklearn.decomposition import PCA\n",
        "from statsmodels.tsa.seasonal import seasonal_decompose\n",
        "from statsmodels.tsa.stattools import adfuller\n",
        "from pykalman import KalmanFilter\n",
        "from sklearn.metrics import mean_squared_error,mean_absolute_percentage_error\n",
        "from statsmodels.tsa.statespace.sarimax import SARIMAX\n",
        "from tqdm.notebook import tqdm\n",
        "from tqdm import tqdm_notebook, tnrange\n",
        "from itertools import product\n"
      ]
    },
    {
      "cell_type": "code",
      "source": [
        "pip install pykalman"
      ],
      "metadata": {
        "colab": {
          "base_uri": "https://localhost:8080/"
        },
        "id": "rgrIZ5-idOXe",
        "outputId": "55fd7756-8e80-4d35-bdd3-42fb5e325fdf"
      },
      "execution_count": null,
      "outputs": [
        {
          "output_type": "stream",
          "name": "stdout",
          "text": [
            "Collecting pykalman\n",
            "  Downloading pykalman-0.9.5.tar.gz (228 kB)\n",
            "\u001b[2K     \u001b[90m━━━━━━━━━━━━━━━━━━━━━━━━━━━━━━━━━━━━━━━━\u001b[0m \u001b[32m228.9/228.9 kB\u001b[0m \u001b[31m3.1 MB/s\u001b[0m eta \u001b[36m0:00:00\u001b[0m\n",
            "\u001b[?25h  Preparing metadata (setup.py) ... \u001b[?25l\u001b[?25hdone\n",
            "Building wheels for collected packages: pykalman\n",
            "  Building wheel for pykalman (setup.py) ... \u001b[?25l\u001b[?25hdone\n",
            "  Created wheel for pykalman: filename=pykalman-0.9.5-py3-none-any.whl size=48443 sha256=0b442dc6207d4a9b2d132eaee0d114b77c5208c41c03f2ac4812da860cdd6431\n",
            "  Stored in directory: /root/.cache/pip/wheels/76/33/ef/5f332226e13a5089c6dd4b01cc2bcb59491d18f955fa2d3807\n",
            "Successfully built pykalman\n",
            "Installing collected packages: pykalman\n",
            "Successfully installed pykalman-0.9.5\n"
          ]
        }
      ]
    },
    {
      "cell_type": "code",
      "source": [
        "df4=pd.read_csv(\"Final_whole_data.csv\")\n",
        "df4=df4.dropna(axis=0)\n",
        "df4['tirumala']=(df4['tirumala']*100/max(df4['tirumala'])).astype(int)\n",
        "y=df4['Pilgrims']"
      ],
      "metadata": {
        "id": "1WGxYvsMKCtO"
      },
      "execution_count": null,
      "outputs": []
    },
    {
      "cell_type": "code",
      "source": [
        "result=seasonal_decompose(df4['Pilgrims'],model='additive',period=52)\n",
        "result.plot()\n",
        "plt.show()\n",
        "plot_acf(df4['Pilgrims'], lags=52)  # Assuming 1 year peodicity\n",
        "plt.title(\"Autocorrelation Function (ACF) Plot\")\n",
        "plt.xlabel(\"Lag\")\n",
        "plt.ylabel(\"ACF\")\n",
        "plt.show()"
      ],
      "metadata": {
        "colab": {
          "base_uri": "https://localhost:8080/",
          "height": 942
        },
        "id": "olIB_CgEo0Za",
        "outputId": "74230728-45c5-4fca-b0b5-2ccaa6b3b919"
      },
      "execution_count": null,
      "outputs": [
        {
          "output_type": "display_data",
          "data": {
            "text/plain": [
              "<Figure size 640x480 with 4 Axes>"
            ],
            "image/png": "[encoded data removed]"
          },
          "metadata": {}
        },
        {
          "output_type": "display_data",
          "data": {
            "text/plain": [
              "<Figure size 640x480 with 1 Axes>"
            ],
            "image/png": "[encoded data removed]"
          },
          "metadata": {}
        }
      ]
    },
    {
      "cell_type": "code",
      "source": [
        "x= df4.iloc[:, 1:14]\n",
        "pca = PCA(n_components = 5)\n",
        "X2D = pca.fit_transform(x)\n",
        "print(pca.explained_variance_ratio_)\n",
        "dft=pd.DataFrame(X2D)"
      ],
      "metadata": {
        "id": "sV5Rul3E_PtE",
        "colab": {
          "base_uri": "https://localhost:8080/"
        },
        "outputId": "0665a1d7-f082-4203-b93e-7dc7fbe05648"
      },
      "execution_count": null,
      "outputs": [
        {
          "output_type": "stream",
          "name": "stdout",
          "text": [
            "[0.41486661 0.25168113 0.07641294 0.06333555 0.04357787]\n"
          ]
        }
      ]
    },
    {
      "cell_type": "code",
      "source": [
        "result = adfuller(y)\n",
        "print('ADF Test Statistic: %.2f' % result[0])\n",
        "print('5%% Critical Value: %.2f' % result[4]['5%'])\n",
        "print('p-value: %.2f' % result[1])\n",
        "diff= y.diff()\n",
        "diff.drop([0], axis=0, inplace=True)\n",
        "result = adfuller(diff)\n",
        "print('ADF Test Statistic: %.2f' % result[0])\n",
        "print('5%% Critical Value: %.2f' % result[4]['5%'])\n",
        "print('p-value: %.2f' % result[1])\n",
        "y=pd.DataFrame(diff)"
      ],
      "metadata": {
        "colab": {
          "base_uri": "https://localhost:8080/"
        },
        "id": "5npHmHcGSZdU",
        "outputId": "04bd6f4c-835e-442c-b36f-279504f1fe33"
      },
      "execution_count": null,
      "outputs": [
        {
          "output_type": "stream",
          "name": "stdout",
          "text": [
            "ADF Test Statistic: -2.41\n",
            "5% Critical Value: -2.87\n",
            "p-value: 0.14\n",
            "ADF Test Statistic: -8.03\n",
            "5% Critical Value: -2.87\n",
            "p-value: 0.00\n"
          ]
        }
      ]
    },
    {
      "cell_type": "code",
      "source": [
        "y=y.reset_index(drop=True)\n",
        "dft_reset = dft.reset_index(drop=True)\n",
        "test = y.join(dft_reset)"
      ],
      "metadata": {
        "id": "jvQi-cjLbmoq"
      },
      "execution_count": null,
      "outputs": []
    },
    {
      "cell_type": "code",
      "source": [
        "dft_reset.index\n",
        "print(y.index)\n",
        "print(dft_reset[:len(dft_reset)-1].index)"
      ],
      "metadata": {
        "colab": {
          "base_uri": "https://localhost:8080/"
        },
        "id": "nxSD510fphzf",
        "outputId": "2e939b84-a61f-4309-c035-b3a06f011795"
      },
      "execution_count": null,
      "outputs": [
        {
          "output_type": "stream",
          "name": "stdout",
          "text": [
            "RangeIndex(start=0, stop=519, step=1)\n",
            "RangeIndex(start=0, stop=519, step=1)\n"
          ]
        }
      ]
    },
    {
      "cell_type": "code",
      "source": [
        " def optimize_SARIMA(parameters_list, d, D, s, exog,endog):\n",
        "    \"\"\"\n",
        "        Return dataframe with parameters, corresponding AIC and SSE\n",
        "\n",
        "        parameters_list - list with (p, q, P, Q) tuples\n",
        "        d - integration order\n",
        "        D - seasonal integration order\n",
        "        s - length of season\n",
        "        exog - the exogenous variable\n",
        "    \"\"\"\n",
        "\n",
        "    results = []\n",
        "\n",
        "    for param in tqdm_notebook(parameters_list):\n",
        "        try:\n",
        "            model = SARIMAX(endog,exog, order=(param[0], d, param[1]), seasonal_order=(param[2], D, param[3], s)).fit(disp=-1)\n",
        "        except Exception as e:\n",
        "            print(e)\n",
        "\n",
        "            continue\n",
        "\n",
        "        aic = model.aic\n",
        "        results.append([param, aic])\n",
        "\n",
        "    result_df = pd.DataFrame(results)\n",
        "    result_df.columns = ['(p,q)x(P,Q)', 'AIC']\n",
        "    #Sort in ascending order, lower AIC is better\n",
        "    result_df = result_df.sort_values(by='AIC', ascending=True).reset_index(drop=True)\n",
        "    print( result_df)\n",
        "    return result_df"
      ],
      "metadata": {
        "id": "q4-qn4zmdKu3"
      },
      "execution_count": null,
      "outputs": []
    },
    {
      "cell_type": "code",
      "source": [
        "# SARIMA parameter optimization (similar to your code)\n",
        "p = range(0, 3, 1)\n",
        "d = 1\n",
        "q = range(0, 3, 1)\n",
        "P = range(0, 3, 1)\n",
        "D = 1\n",
        "Q = range(0, 3, 1)\n",
        "s = 4\n",
        "parameters = product(p, q, P, Q)\n",
        "parameters_list = list(parameters)\n",
        "result_df = optimize_SARIMA(parameters_list, d, D, s, dft_reset[:len(dft_reset)-11], y[:len(y)-10])\n",
        "f_aic = 0\n",
        "\n",
        "if result_df['AIC'].shape[0] > 2 and result_df['AIC'][1] - result_df['AIC'][0] > 3 * (result_df['AIC'][2] - result_df['AIC'][1]):\n",
        "    f_aic = 1\n",
        "\n",
        "best_model_params = result_df['(p,q)x(P,Q)'][f_aic]\n",
        "best_model = SARIMAX( y[:len(y)-10],exog=dft_reset[:len(dft_reset)-11], order=(best_model_params[0], d, best_model_params[1]), seasonal_order=(best_model_params[2], D, best_model_params[3], s)).fit(disp=0)\n"
      ],
      "metadata": {
        "colab": {
          "base_uri": "https://localhost:8080/",
          "height": 1000,
          "referenced_widgets": [
            "693842bb01904df18b692bcd4b7fd9dc",
            "bb47df87dfa94e05b37499e7b01a3d1d",
            "1c872cbb991b4fa4be8cf5b6ac0a70ef",
            "15719381b2e24e7c8f9cc3a840f0249b",
            "24fe732c672e490e901ad716a4754184",
            "fac25ca2ec2542f2b24af0b5e0f05a22",
            "b7154036431d4faba4150d6019bc8e5e",
            "80226bde04e344f9a6c4144ed0abc88e",
            "907a6dc78b354d8cb2a46c4b8024389e",
            "33fffa22537a4a62ac0d7561d27ceedd",
            "00f970f818ee49a5a6b6171d3ff46240"
          ]
        },
        "id": "fdgdD0RXdNFl",
        "outputId": "298098d4-7169-49d1-8fb7-6b1eb601eec8"
      },
      "execution_count": null,
      "outputs": [
        {
          "output_type": "stream",
          "name": "stderr",
          "text": [
            "<ipython-input-13-f828a1f629ee>:14: TqdmDeprecationWarning:\n",
            "\n",
            "This function will be removed in tqdm==5.0.0\n",
            "Please use `tqdm.notebook.tqdm` instead of `tqdm.tqdm_notebook`\n",
            "\n"
          ]
        },
        {
          "output_type": "display_data",
          "data": {
            "text/plain": [
              "  0%|          | 0/81 [00:00<?, ?it/s]"
            ],
            "application/vnd.jupyter.widget-view+json": {
              "version_major": 2,
              "version_minor": 0,
              "model_id": "693842bb01904df18b692bcd4b7fd9dc"
            }
          },
          "metadata": {}
        },
        {
          "output_type": "stream",
          "name": "stderr",
          "text": [
            "/usr/local/lib/python3.10/dist-packages/statsmodels/base/model.py:607: ConvergenceWarning:\n",
            "\n",
            "Maximum Likelihood optimization failed to converge. Check mle_retvals\n",
            "\n",
            "/usr/local/lib/python3.10/dist-packages/statsmodels/base/model.py:607: ConvergenceWarning:\n",
            "\n",
            "Maximum Likelihood optimization failed to converge. Check mle_retvals\n",
            "\n",
            "/usr/local/lib/python3.10/dist-packages/statsmodels/base/model.py:607: ConvergenceWarning:\n",
            "\n",
            "Maximum Likelihood optimization failed to converge. Check mle_retvals\n",
            "\n",
            "/usr/local/lib/python3.10/dist-packages/statsmodels/base/model.py:607: ConvergenceWarning:\n",
            "\n",
            "Maximum Likelihood optimization failed to converge. Check mle_retvals\n",
            "\n",
            "/usr/local/lib/python3.10/dist-packages/statsmodels/base/model.py:607: ConvergenceWarning:\n",
            "\n",
            "Maximum Likelihood optimization failed to converge. Check mle_retvals\n",
            "\n",
            "/usr/local/lib/python3.10/dist-packages/statsmodels/base/model.py:607: ConvergenceWarning:\n",
            "\n",
            "Maximum Likelihood optimization failed to converge. Check mle_retvals\n",
            "\n",
            "/usr/local/lib/python3.10/dist-packages/statsmodels/base/model.py:607: ConvergenceWarning:\n",
            "\n",
            "Maximum Likelihood optimization failed to converge. Check mle_retvals\n",
            "\n",
            "/usr/local/lib/python3.10/dist-packages/statsmodels/base/model.py:607: ConvergenceWarning:\n",
            "\n",
            "Maximum Likelihood optimization failed to converge. Check mle_retvals\n",
            "\n",
            "/usr/local/lib/python3.10/dist-packages/statsmodels/base/model.py:607: ConvergenceWarning:\n",
            "\n",
            "Maximum Likelihood optimization failed to converge. Check mle_retvals\n",
            "\n",
            "/usr/local/lib/python3.10/dist-packages/statsmodels/base/model.py:607: ConvergenceWarning:\n",
            "\n",
            "Maximum Likelihood optimization failed to converge. Check mle_retvals\n",
            "\n",
            "/usr/local/lib/python3.10/dist-packages/statsmodels/base/model.py:607: ConvergenceWarning:\n",
            "\n",
            "Maximum Likelihood optimization failed to converge. Check mle_retvals\n",
            "\n",
            "/usr/local/lib/python3.10/dist-packages/statsmodels/base/model.py:607: ConvergenceWarning:\n",
            "\n",
            "Maximum Likelihood optimization failed to converge. Check mle_retvals\n",
            "\n",
            "/usr/local/lib/python3.10/dist-packages/statsmodels/base/model.py:607: ConvergenceWarning:\n",
            "\n",
            "Maximum Likelihood optimization failed to converge. Check mle_retvals\n",
            "\n",
            "/usr/local/lib/python3.10/dist-packages/statsmodels/base/model.py:607: ConvergenceWarning:\n",
            "\n",
            "Maximum Likelihood optimization failed to converge. Check mle_retvals\n",
            "\n",
            "/usr/local/lib/python3.10/dist-packages/statsmodels/base/model.py:607: ConvergenceWarning:\n",
            "\n",
            "Maximum Likelihood optimization failed to converge. Check mle_retvals\n",
            "\n",
            "/usr/local/lib/python3.10/dist-packages/statsmodels/base/model.py:607: ConvergenceWarning:\n",
            "\n",
            "Maximum Likelihood optimization failed to converge. Check mle_retvals\n",
            "\n",
            "/usr/local/lib/python3.10/dist-packages/statsmodels/base/model.py:607: ConvergenceWarning:\n",
            "\n",
            "Maximum Likelihood optimization failed to converge. Check mle_retvals\n",
            "\n",
            "/usr/local/lib/python3.10/dist-packages/statsmodels/base/model.py:607: ConvergenceWarning:\n",
            "\n",
            "Maximum Likelihood optimization failed to converge. Check mle_retvals\n",
            "\n",
            "/usr/local/lib/python3.10/dist-packages/statsmodels/base/model.py:607: ConvergenceWarning:\n",
            "\n",
            "Maximum Likelihood optimization failed to converge. Check mle_retvals\n",
            "\n",
            "/usr/local/lib/python3.10/dist-packages/statsmodels/base/model.py:607: ConvergenceWarning:\n",
            "\n",
            "Maximum Likelihood optimization failed to converge. Check mle_retvals\n",
            "\n",
            "/usr/local/lib/python3.10/dist-packages/statsmodels/base/model.py:607: ConvergenceWarning:\n",
            "\n",
            "Maximum Likelihood optimization failed to converge. Check mle_retvals\n",
            "\n",
            "/usr/local/lib/python3.10/dist-packages/statsmodels/base/model.py:607: ConvergenceWarning:\n",
            "\n",
            "Maximum Likelihood optimization failed to converge. Check mle_retvals\n",
            "\n",
            "/usr/local/lib/python3.10/dist-packages/statsmodels/base/model.py:607: ConvergenceWarning:\n",
            "\n",
            "Maximum Likelihood optimization failed to converge. Check mle_retvals\n",
            "\n"
          ]
        },
        {
          "output_type": "stream",
          "name": "stdout",
          "text": [
            "     (p,q)x(P,Q)           AIC\n",
            "0   (2, 2, 0, 1)  12268.800288\n",
            "1   (2, 1, 0, 2)  12269.156000\n",
            "2   (2, 1, 1, 1)  12269.170061\n",
            "3   (2, 1, 0, 1)  12271.055813\n",
            "4   (2, 2, 0, 2)  12271.750190\n",
            "..           ...           ...\n",
            "76  (1, 0, 1, 0)  12550.143285\n",
            "77  (0, 0, 2, 0)  12626.960914\n",
            "78  (1, 0, 0, 0)  12655.078536\n",
            "79  (0, 0, 1, 0)  12678.013989\n",
            "80  (0, 0, 0, 0)  15438.664970\n",
            "\n",
            "[81 rows x 2 columns]\n"
          ]
        }
      ]
    },
    {
      "cell_type": "code",
      "source": [
        "sarima_forecasts_label = best_model.forecast(steps=10, exog=test[[0, 1, 2, 3, 4]].iloc[-10:])\n"
      ],
      "metadata": {
        "id": "DrMms-psB9D7"
      },
      "execution_count": null,
      "outputs": []
    },
    {
      "cell_type": "code",
      "source": [
        "kf = KalmanFilter(initial_state_mean=0, n_dim_state=1, n_dim_obs=1)\n",
        "\n",
        "# Apply the Kalman filter to the SARIMA forecasts\n",
        "kf = kf.em(sarima_forecasts_label, n_iter=5)\n",
        "filtered_state_means,filtered_cov= kf.filter(sarima_forecasts_label)\n",
        "print(filtered_state_means)\n",
        "# Extract the estimated true underlying states\n",
        "filtered_state_means_array = np.array(filtered_state_means)\n",
        "\n",
        "# Now you can use squeeze() on the NumPy array\n",
        "true_state_estimates = filtered_state_means_array.squeeze()\n",
        "\n",
        "# The true next two labels can be obtained from the original data\n",
        "true_next_labels =test['Pilgrims'].iloc[-10:].values\n",
        "\n",
        "# Calculate the Mean Squared Error (MSE) to measure accuracy"
      ],
      "metadata": {
        "id": "VW6Lq-tvsLmO"
      },
      "execution_count": null,
      "outputs": []
    },
    {
      "cell_type": "code",
      "source": [
        "sarima_forecasts_label.reset_index(drop=True,inplace=True)\n",
        "pred=[]\n",
        "pred.append(df4['Pilgrims'].iloc[-10]+sarima_forecasts_label[0])\n",
        "for i in sarima_forecasts_label[1:]:\n",
        "  pred.append(pred[-1]+i)"
      ],
      "metadata": {
        "id": "j4wPou0zIIXF"
      },
      "execution_count": null,
      "outputs": []
    },
    {
      "cell_type": "code",
      "source": [
        "pred"
      ],
      "metadata": {
        "colab": {
          "base_uri": "https://localhost:8080/"
        },
        "id": "fdvXYGJiMEeg",
        "outputId": "1eed4d50-0deb-48fe-f42c-ef604f5f1f3b"
      },
      "execution_count": null,
      "outputs": [
        {
          "output_type": "execute_result",
          "data": {
            "text/plain": [
              "[508188.15360245376,\n",
              " 521984.6650331124,\n",
              " 521639.69828478317,\n",
              " 526026.3575900643,\n",
              " 528973.8691326712,\n",
              " 536835.0898396899,\n",
              " 531324.3376993235,\n",
              " 529388.4900596119,\n",
              " 532950.8445381495,\n",
              " 542908.3938722861]"
            ]
          },
          "metadata": {},
          "execution_count": 31
        }
      ]
    },
    {
      "cell_type": "code",
      "source": [
        "fig = go.Figure()\n",
        "\n",
        "# Add a line trace for the original data\n",
        "fig.add_trace(go.Scatter(x=df4['Date'].iloc[-10:], y=df4['Pilgrims'].iloc[-10:], mode='lines', name='Original Data'))\n",
        "\n",
        "# Add a line trace for the prediction\n",
        "fig.add_trace(go.Scatter(x=df4['Date'].iloc[-10:], y=pred, mode='lines', name='Prediction'))\n",
        "\n",
        "# Customize the layout if needed\n",
        "fig.update_layout(title='Original Data and Prediction',\n",
        "                  xaxis_title='X-axis',\n",
        "                  yaxis_title='Y-axis')\n",
        "\n",
        "# Show the Plotly figure\n",
        "fig.show()"
      ],
      "metadata": {
        "id": "qPUHRp1JOD0X",
        "colab": {
          "base_uri": "https://localhost:8080/",
          "height": 542
        },
        "outputId": "662e0032-c982-41e6-cccc-908c761ad0d1"
      },
      "execution_count": null,
      "outputs": [
        {
          "output_type": "display_data",
          "data": {
            "text/html": [
              "<html>\n",
              "<head><meta charset=\"utf-8\" /></head>\n",
              "<body>\n",
              "    <div>            <script src=\"https://cdnjs.cloudflare.com/ajax/libs/mathjax/2.7.5/MathJax.js?config=TeX-AMS-MML_SVG\"></script><script type=\"text/javascript\">if (window.MathJax && window.MathJax.Hub && window.MathJax.Hub.Config) {window.MathJax.Hub.Config({SVG: {font: \"STIX-Web\"}});}</script>                <script type=\"text/javascript\">window.PlotlyConfig = {MathJaxConfig: 'local'};</script>\n",
              "        <script charset=\"utf-8\" src=\"https://cdn.plot.ly/plotly-2.24.1.min.js\"></script>                <div id=\"abb76568-86f9-43b1-bc29-7751b1b3f47f\" class=\"plotly-graph-div\" style=\"height:525px; width:100%;\"></div>            <script type=\"text/javascript\">                                    window.PLOTLYENV=window.PLOTLYENV || {};                                    if (document.getElementById(\"abb76568-86f9-43b1-bc29-7751b1b3f47f\")) {                    Plotly.newPlot(                        \"abb76568-86f9-43b1-bc29-7751b1b3f47f\",                        [{\"mode\":\"lines\",\"name\":\"Original Data\",\"x\":[\"30-07-2023\",\"06-08-2023\",\"13-08-2023\",\"20-08-2023\",\"27-08-2023\",\"03-09-2023\",\"10-09-2023\",\"17-09-2023\",\"24-09-2023\",\"01-10-2023\"],\"y\":[500190,515473,514404,492709,493724,514367,478997,474883,490777,519928],\"type\":\"scatter\"},{\"mode\":\"lines\",\"name\":\"Prediction\",\"x\":[\"30-07-2023\",\"06-08-2023\",\"13-08-2023\",\"20-08-2023\",\"27-08-2023\",\"03-09-2023\",\"10-09-2023\",\"17-09-2023\",\"24-09-2023\",\"01-10-2023\"],\"y\":[508188.15360245376,521984.6650331124,521639.69828478317,526026.3575900643,528973.8691326712,536835.0898396899,531324.3376993235,529388.4900596119,532950.8445381495,542908.3938722861],\"type\":\"scatter\"}],                        {\"template\":{\"data\":{\"histogram2dcontour\":[{\"type\":\"histogram2dcontour\",\"colorbar\":{\"outlinewidth\":0,\"ticks\":\"\"},\"colorscale\":[[0.0,\"#0d0887\"],[0.1111111111111111,\"#46039f\"],[0.2222222222222222,\"#7201a8\"],[0.3333333333333333,\"#9c179e\"],[0.4444444444444444,\"#bd3786\"],[0.5555555555555556,\"#d8576b\"],[0.6666666666666666,\"#ed7953\"],[0.7777777777777778,\"#fb9f3a\"],[0.8888888888888888,\"#fdca26\"],[1.0,\"#f0f921\"]]}],\"choropleth\":[{\"type\":\"choropleth\",\"colorbar\":{\"outlinewidth\":0,\"ticks\":\"\"}}],\"histogram2d\":[{\"type\":\"histogram2d\",\"colorbar\":{\"outlinewidth\":0,\"ticks\":\"\"},\"colorscale\":[[0.0,\"#0d0887\"],[0.1111111111111111,\"#46039f\"],[0.2222222222222222,\"#7201a8\"],[0.3333333333333333,\"#9c179e\"],[0.4444444444444444,\"#bd3786\"],[0.5555555555555556,\"#d8576b\"],[0.6666666666666666,\"#ed7953\"],[0.7777777777777778,\"#fb9f3a\"],[0.8888888888888888,\"#fdca26\"],[1.0,\"#f0f921\"]]}],\"heatmap\":[{\"type\":\"heatmap\",\"colorbar\":{\"outlinewidth\":0,\"ticks\":\"\"},\"colorscale\":[[0.0,\"#0d0887\"],[0.1111111111111111,\"#46039f\"],[0.2222222222222222,\"#7201a8\"],[0.3333333333333333,\"#9c179e\"],[0.4444444444444444,\"#bd3786\"],[0.5555555555555556,\"#d8576b\"],[0.6666666666666666,\"#ed7953\"],[0.7777777777777778,\"#fb9f3a\"],[0.8888888888888888,\"#fdca26\"],[1.0,\"#f0f921\"]]}],\"heatmapgl\":[{\"type\":\"heatmapgl\",\"colorbar\":{\"outlinewidth\":0,\"ticks\":\"\"},\"colorscale\":[[0.0,\"#0d0887\"],[0.1111111111111111,\"#46039f\"],[0.2222222222222222,\"#7201a8\"],[0.3333333333333333,\"#9c179e\"],[0.4444444444444444,\"#bd3786\"],[0.5555555555555556,\"#d8576b\"],[0.6666666666666666,\"#ed7953\"],[0.7777777777777778,\"#fb9f3a\"],[0.8888888888888888,\"#fdca26\"],[1.0,\"#f0f921\"]]}],\"contourcarpet\":[{\"type\":\"contourcarpet\",\"colorbar\":{\"outlinewidth\":0,\"ticks\":\"\"}}],\"contour\":[{\"type\":\"contour\",\"colorbar\":{\"outlinewidth\":0,\"ticks\":\"\"},\"colorscale\":[[0.0,\"#0d0887\"],[0.1111111111111111,\"#46039f\"],[0.2222222222222222,\"#7201a8\"],[0.3333333333333333,\"#9c179e\"],[0.4444444444444444,\"#bd3786\"],[0.5555555555555556,\"#d8576b\"],[0.6666666666666666,\"#ed7953\"],[0.7777777777777778,\"#fb9f3a\"],[0.8888888888888888,\"#fdca26\"],[1.0,\"#f0f921\"]]}],\"surface\":[{\"type\":\"surface\",\"colorbar\":{\"outlinewidth\":0,\"ticks\":\"\"},\"colorscale\":[[0.0,\"#0d0887\"],[0.1111111111111111,\"#46039f\"],[0.2222222222222222,\"#7201a8\"],[0.3333333333333333,\"#9c179e\"],[0.4444444444444444,\"#bd3786\"],[0.5555555555555556,\"#d8576b\"],[0.6666666666666666,\"#ed7953\"],[0.7777777777777778,\"#fb9f3a\"],[0.8888888888888888,\"#fdca26\"],[1.0,\"#f0f921\"]]}],\"mesh3d\":[{\"type\":\"mesh3d\",\"colorbar\":{\"outlinewidth\":0,\"ticks\":\"\"}}],\"scatter\":[{\"fillpattern\":{\"fillmode\":\"overlay\",\"size\":10,\"solidity\":0.2},\"type\":\"scatter\"}],\"parcoords\":[{\"type\":\"parcoords\",\"line\":{\"colorbar\":{\"outlinewidth\":0,\"ticks\":\"\"}}}],\"scatterpolargl\":[{\"type\":\"scatterpolargl\",\"marker\":{\"colorbar\":{\"outlinewidth\":0,\"ticks\":\"\"}}}],\"bar\":[{\"error_x\":{\"color\":\"#2a3f5f\"},\"error_y\":{\"color\":\"#2a3f5f\"},\"marker\":{\"line\":{\"color\":\"#E5ECF6\",\"width\":0.5},\"pattern\":{\"fillmode\":\"overlay\",\"size\":10,\"solidity\":0.2}},\"type\":\"bar\"}],\"scattergeo\":[{\"type\":\"scattergeo\",\"marker\":{\"colorbar\":{\"outlinewidth\":0,\"ticks\":\"\"}}}],\"scatterpolar\":[{\"type\":\"scatterpolar\",\"marker\":{\"colorbar\":{\"outlinewidth\":0,\"ticks\":\"\"}}}],\"histogram\":[{\"marker\":{\"pattern\":{\"fillmode\":\"overlay\",\"size\":10,\"solidity\":0.2}},\"type\":\"histogram\"}],\"scattergl\":[{\"type\":\"scattergl\",\"marker\":{\"colorbar\":{\"outlinewidth\":0,\"ticks\":\"\"}}}],\"scatter3d\":[{\"type\":\"scatter3d\",\"line\":{\"colorbar\":{\"outlinewidth\":0,\"ticks\":\"\"}},\"marker\":{\"colorbar\":{\"outlinewidth\":0,\"ticks\":\"\"}}}],\"scattermapbox\":[{\"type\":\"scattermapbox\",\"marker\":{\"colorbar\":{\"outlinewidth\":0,\"ticks\":\"\"}}}],\"scatterternary\":[{\"type\":\"scatterternary\",\"marker\":{\"colorbar\":{\"outlinewidth\":0,\"ticks\":\"\"}}}],\"scattercarpet\":[{\"type\":\"scattercarpet\",\"marker\":{\"colorbar\":{\"outlinewidth\":0,\"ticks\":\"\"}}}],\"carpet\":[{\"aaxis\":{\"endlinecolor\":\"#2a3f5f\",\"gridcolor\":\"white\",\"linecolor\":\"white\",\"minorgridcolor\":\"white\",\"startlinecolor\":\"#2a3f5f\"},\"baxis\":{\"endlinecolor\":\"#2a3f5f\",\"gridcolor\":\"white\",\"linecolor\":\"white\",\"minorgridcolor\":\"white\",\"startlinecolor\":\"#2a3f5f\"},\"type\":\"carpet\"}],\"table\":[{\"cells\":{\"fill\":{\"color\":\"#EBF0F8\"},\"line\":{\"color\":\"white\"}},\"header\":{\"fill\":{\"color\":\"#C8D4E3\"},\"line\":{\"color\":\"white\"}},\"type\":\"table\"}],\"barpolar\":[{\"marker\":{\"line\":{\"color\":\"#E5ECF6\",\"width\":0.5},\"pattern\":{\"fillmode\":\"overlay\",\"size\":10,\"solidity\":0.2}},\"type\":\"barpolar\"}],\"pie\":[{\"automargin\":true,\"type\":\"pie\"}]},\"layout\":{\"autotypenumbers\":\"strict\",\"colorway\":[\"#636efa\",\"#EF553B\",\"#00cc96\",\"#ab63fa\",\"#FFA15A\",\"#19d3f3\",\"#FF6692\",\"#B6E880\",\"#FF97FF\",\"#FECB52\"],\"font\":{\"color\":\"#2a3f5f\"},\"hovermode\":\"closest\",\"hoverlabel\":{\"align\":\"left\"},\"paper_bgcolor\":\"white\",\"plot_bgcolor\":\"#E5ECF6\",\"polar\":{\"bgcolor\":\"#E5ECF6\",\"angularaxis\":{\"gridcolor\":\"white\",\"linecolor\":\"white\",\"ticks\":\"\"},\"radialaxis\":{\"gridcolor\":\"white\",\"linecolor\":\"white\",\"ticks\":\"\"}},\"ternary\":{\"bgcolor\":\"#E5ECF6\",\"aaxis\":{\"gridcolor\":\"white\",\"linecolor\":\"white\",\"ticks\":\"\"},\"baxis\":{\"gridcolor\":\"white\",\"linecolor\":\"white\",\"ticks\":\"\"},\"caxis\":{\"gridcolor\":\"white\",\"linecolor\":\"white\",\"ticks\":\"\"}},\"coloraxis\":{\"colorbar\":{\"outlinewidth\":0,\"ticks\":\"\"}},\"colorscale\":{\"sequential\":[[0.0,\"#0d0887\"],[0.1111111111111111,\"#46039f\"],[0.2222222222222222,\"#7201a8\"],[0.3333333333333333,\"#9c179e\"],[0.4444444444444444,\"#bd3786\"],[0.5555555555555556,\"#d8576b\"],[0.6666666666666666,\"#ed7953\"],[0.7777777777777778,\"#fb9f3a\"],[0.8888888888888888,\"#fdca26\"],[1.0,\"#f0f921\"]],\"sequentialminus\":[[0.0,\"#0d0887\"],[0.1111111111111111,\"#46039f\"],[0.2222222222222222,\"#7201a8\"],[0.3333333333333333,\"#9c179e\"],[0.4444444444444444,\"#bd3786\"],[0.5555555555555556,\"#d8576b\"],[0.6666666666666666,\"#ed7953\"],[0.7777777777777778,\"#fb9f3a\"],[0.8888888888888888,\"#fdca26\"],[1.0,\"#f0f921\"]],\"diverging\":[[0,\"#8e0152\"],[0.1,\"#c51b7d\"],[0.2,\"#de77ae\"],[0.3,\"#f1b6da\"],[0.4,\"#fde0ef\"],[0.5,\"#f7f7f7\"],[0.6,\"#e6f5d0\"],[0.7,\"#b8e186\"],[0.8,\"#7fbc41\"],[0.9,\"#4d9221\"],[1,\"#276419\"]]},\"xaxis\":{\"gridcolor\":\"white\",\"linecolor\":\"white\",\"ticks\":\"\",\"title\":{\"standoff\":15},\"zerolinecolor\":\"white\",\"automargin\":true,\"zerolinewidth\":2},\"yaxis\":{\"gridcolor\":\"white\",\"linecolor\":\"white\",\"ticks\":\"\",\"title\":{\"standoff\":15},\"zerolinecolor\":\"white\",\"automargin\":true,\"zerolinewidth\":2},\"scene\":{\"xaxis\":{\"backgroundcolor\":\"#E5ECF6\",\"gridcolor\":\"white\",\"linecolor\":\"white\",\"showbackground\":true,\"ticks\":\"\",\"zerolinecolor\":\"white\",\"gridwidth\":2},\"yaxis\":{\"backgroundcolor\":\"#E5ECF6\",\"gridcolor\":\"white\",\"linecolor\":\"white\",\"showbackground\":true,\"ticks\":\"\",\"zerolinecolor\":\"white\",\"gridwidth\":2},\"zaxis\":{\"backgroundcolor\":\"#E5ECF6\",\"gridcolor\":\"white\",\"linecolor\":\"white\",\"showbackground\":true,\"ticks\":\"\",\"zerolinecolor\":\"white\",\"gridwidth\":2}},\"shapedefaults\":{\"line\":{\"color\":\"#2a3f5f\"}},\"annotationdefaults\":{\"arrowcolor\":\"#2a3f5f\",\"arrowhead\":0,\"arrowwidth\":1},\"geo\":{\"bgcolor\":\"white\",\"landcolor\":\"#E5ECF6\",\"subunitcolor\":\"white\",\"showland\":true,\"showlakes\":true,\"lakecolor\":\"white\"},\"title\":{\"x\":0.05},\"mapbox\":{\"style\":\"light\"}}},\"title\":{\"text\":\"Original Data and Prediction\"},\"xaxis\":{\"title\":{\"text\":\"X-axis\"}},\"yaxis\":{\"title\":{\"text\":\"Y-axis\"}}},                        {\"responsive\": true}                    ).then(function(){\n",
              "                            \n",
              "var gd = document.getElementById('abb76568-86f9-43b1-bc29-7751b1b3f47f');\n",
              "var x = new MutationObserver(function (mutations, observer) {{\n",
              "        var display = window.getComputedStyle(gd).display;\n",
              "        if (!display || display === 'none') {{\n",
              "            console.log([gd, 'removed!']);\n",
              "            Plotly.purge(gd);\n",
              "            observer.disconnect();\n",
              "        }}\n",
              "}});\n",
              "\n",
              "// Listen for the removal of the full notebook cells\n",
              "var notebookContainer = gd.closest('#notebook-container');\n",
              "if (notebookContainer) {{\n",
              "    x.observe(notebookContainer, {childList: true});\n",
              "}}\n",
              "\n",
              "// Listen for the clearing of the current output cell\n",
              "var outputEl = gd.closest('.output');\n",
              "if (outputEl) {{\n",
              "    x.observe(outputEl, {childList: true});\n",
              "}}\n",
              "\n",
              "                        })                };                            </script>        </div>\n",
              "</body>\n",
              "</html>"
            ]
          },
          "metadata": {}
        }
      ]
    },
    {
      "cell_type": "code",
      "source": [
        "mse = mean_absolute_percentage_error(df4['Pilgrims'].iloc[-10:], pred)\n",
        "print(\"(MAE):\", mse*100)"
      ],
      "metadata": {
        "colab": {
          "base_uri": "https://localhost:8080/"
        },
        "id": "7kg6VgOKHpoC",
        "outputId": "27491e3b-3aae-4074-87a2-8bab79851f26"
      },
      "execution_count": null,
      "outputs": [
        {
          "output_type": "stream",
          "name": "stdout",
          "text": [
            "(MAE): 5.7953874822179525\n"
          ]
        }
      ]
    },
    {
      "cell_type": "code",
      "source": [],
      "metadata": {
        "id": "sBrEuVhuN-zT"
      },
      "execution_count": null,
      "outputs": []
    }
  ]
}